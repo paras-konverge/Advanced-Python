{
  "nbformat": 4,
  "nbformat_minor": 0,
  "metadata": {
    "colab": {
      "name": "Threading.ipynb",
      "provenance": [],
      "authorship_tag": "ABX9TyP/mnl67F+5lhqmmILVhy5t",
      "include_colab_link": true
    },
    "kernelspec": {
      "name": "python3",
      "display_name": "Python 3"
    },
    "language_info": {
      "name": "python"
    }
  },
  "cells": [
    {
      "cell_type": "markdown",
      "metadata": {
        "id": "view-in-github",
        "colab_type": "text"
      },
      "source": [
        "<a href=\"https://colab.research.google.com/github/paras-konverge/Advanced-Python/blob/main/Threading.ipynb\" target=\"_parent\"><img src=\"https://colab.research.google.com/assets/colab-badge.svg\" alt=\"Open In Colab\"/></a>"
      ]
    },
    {
      "cell_type": "code",
      "execution_count": null,
      "metadata": {
        "id": "AJqAYGrnqZcp"
      },
      "outputs": [],
      "source": [
        "from threading import Thread"
      ]
    },
    {
      "cell_type": "code",
      "source": [
        "def square_numbers():\n",
        "  for i in range(100)\n",
        "  i*i"
      ],
      "metadata": {
        "id": "eIhdDg2D_rAr"
      },
      "execution_count": null,
      "outputs": []
    },
    {
      "cell_type": "code",
      "source": [
        "if __name__ == \"__main__\":\n",
        "  threads = []\n",
        "  num_threads = 10\n",
        "\n",
        "  #create threads\n",
        "  for i in range(num_threads):\n",
        "      thread = Thread(target= square_numbers)\n",
        "      threads.append(thread)\n",
        "\n",
        "  # start threads\n",
        "  for thread in threads:\n",
        "      thread.start()\n",
        "\n",
        "\n",
        "  #join threads: wait for them to complete\n",
        "\n",
        "  for thread in threads:\n",
        "      thread.join()\n",
        "\n",
        "  print('end main')        "
      ],
      "metadata": {
        "id": "0dDcBxOP_1Tn"
      },
      "execution_count": null,
      "outputs": []
    }
  ]
}
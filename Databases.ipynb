{
  "nbformat": 4,
  "nbformat_minor": 0,
  "metadata": {
    "colab": {
      "name": "Databases.ipynb",
      "provenance": [],
      "authorship_tag": "ABX9TyMi1ZfRHN+tQwjSWD1ujR+C",
      "include_colab_link": true
    },
    "kernelspec": {
      "name": "python3",
      "display_name": "Python 3"
    },
    "language_info": {
      "name": "python"
    }
  },
  "cells": [
    {
      "cell_type": "markdown",
      "metadata": {
        "id": "view-in-github",
        "colab_type": "text"
      },
      "source": [
        "<a href=\"https://colab.research.google.com/github/paras-konverge/Database/blob/main/Databases.ipynb\" target=\"_parent\"><img src=\"https://colab.research.google.com/assets/colab-badge.svg\" alt=\"Open In Colab\"/></a>"
      ]
    },
    {
      "cell_type": "code",
      "execution_count": null,
      "metadata": {
        "id": "-UeqJGvdUy1S"
      },
      "outputs": [],
      "source": [
        "from google.colab import drive\n",
        "drive.mount('/content/MyDrive')\n"
      ]
    },
    {
      "cell_type": "code",
      "source": [
        "#%cd MyDrive/Colab\n",
        "#\n",
        "#!pwd\n",
        "#!ls\n",
        "%cd Learning\\ and\\ Development\n",
        "\n",
        "\n"
      ],
      "metadata": {
        "id": "nL9lVIugVvvV",
        "colab": {
          "base_uri": "https://localhost:8080/"
        },
        "outputId": "39d07947-b18c-4154-e934-7fc5d2f33665"
      },
      "execution_count": 74,
      "outputs": [
        {
          "output_type": "stream",
          "name": "stdout",
          "text": [
            "/content/MyDrive/MyDrive/Colab Notebooks/Learning and Development\n"
          ]
        }
      ]
    },
    {
      "cell_type": "code",
      "execution_count": 75,
      "metadata": {
        "colab": {
          "base_uri": "https://localhost:8080/"
        },
        "id": "OpGU5_OzmvJK",
        "outputId": "64de29d1-885a-4f2c-8f8f-b2cf28bd95fc"
      },
      "outputs": [
        {
          "output_type": "stream",
          "name": "stdout",
          "text": [
            "Enter file name: \n",
            "cwen@iupui.edu 5\n",
            "zqian@umich.edu 4\n",
            "david.horwitz@uct.ac.za 4\n",
            "louis@media.berkeley.edu 3\n",
            "gsilver@umich.edu 3\n",
            "stephen.marquard@uct.ac.za 2\n",
            "rjlowe@iupui.edu 2\n",
            "wagnermr@iupui.edu 1\n",
            "antranig@caret.cam.ac.uk 1\n",
            "gopal.ramasammycook@gmail.com 1\n"
          ]
        }
      ],
      "source": [
        "import sqlite3\n",
        "conn = sqlite3.connect('emaildb.sqlite')\n",
        "cur = conn.cursor()\n",
        "\n",
        "cur.execute('DROP TABLE IF EXISTS Counts')\n",
        "\n",
        "cur.execute('''\n",
        "CREATE TABLE Counts (email TEXT, count INTEGER)''')\n",
        "\n",
        "fname = input('Enter file name: ')\n",
        "if (len(fname) < 1): fname = 'mbox-short.txt'\n",
        "fh = open(fname)\n",
        "for line in fh:\n",
        "    if not line.startswith('From: '): continue\n",
        "    pieces = line.split()\n",
        "    email = pieces[1]\n",
        "    cur.execute('SELECT count FROM Counts WHERE email = ? ', (email,))\n",
        "    row = cur.fetchone()\n",
        "    if row is None:\n",
        "        cur.execute('''INSERT INTO Counts (email, count)\n",
        "                VALUES (?, 1)''', (email,))\n",
        "    else:\n",
        "        cur.execute('UPDATE Counts SET count = count + 1 WHERE email = ?',\n",
        "                    (email,))\n",
        "    conn.commit()\n",
        "\n",
        "# https://www.sqlite.org/lang_select.html\n",
        "sqlstr = 'SELECT email, count FROM Counts ORDER BY count DESC LIMIT 10'\n",
        "\n",
        "for row in cur.execute(sqlstr):\n",
        "    print(str(row[0]), row[1])\n",
        "\n",
        "cur.close()"
      ]
    }
  ]
}
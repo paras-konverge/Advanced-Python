{
  "nbformat": 4,
  "nbformat_minor": 0,
  "metadata": {
    "colab": {
      "name": "deque.ipynb",
      "provenance": [],
      "authorship_tag": "ABX9TyNBX6xT/bY9aF+aGmGhdmpJ",
      "include_colab_link": true
    },
    "kernelspec": {
      "name": "python3",
      "display_name": "Python 3"
    },
    "language_info": {
      "name": "python"
    }
  },
  "cells": [
    {
      "cell_type": "markdown",
      "metadata": {
        "id": "view-in-github",
        "colab_type": "text"
      },
      "source": [
        "<a href=\"https://colab.research.google.com/github/paras-konverge/Advanced-Python/blob/main/deque.ipynb\" target=\"_parent\"><img src=\"https://colab.research.google.com/assets/colab-badge.svg\" alt=\"Open In Colab\"/></a>"
      ]
    },
    {
      "cell_type": "code",
      "execution_count": null,
      "metadata": {
        "colab": {
          "base_uri": "https://localhost:8080/"
        },
        "id": "OsxFtAbd8h_-",
        "outputId": "27a78fa4-6405-436e-c74f-517e9bdcc9f5"
      },
      "outputs": [
        {
          "output_type": "stream",
          "name": "stdout",
          "text": [
            "deque([1, 2])\n"
          ]
        }
      ],
      "source": [
        "from collections import deque\n",
        "\n",
        "d = deque()\n",
        "\n",
        "d.append(1)\n",
        "d.append(2)\n",
        "print(d)"
      ]
    },
    {
      "cell_type": "code",
      "source": [
        "d.appendleft(3)\n",
        "print(d)"
      ],
      "metadata": {
        "id": "vyYSR4uu-CKa"
      },
      "execution_count": null,
      "outputs": []
    },
    {
      "cell_type": "code",
      "source": [
        "d.pop()\n",
        "print(d)\n"
      ],
      "metadata": {
        "id": "5DIVcitS-LMb"
      },
      "execution_count": null,
      "outputs": []
    },
    {
      "cell_type": "code",
      "source": [
        "d.popleft()\n",
        "print(d)\n"
      ],
      "metadata": {
        "id": "qtBcHAaS-biB"
      },
      "execution_count": null,
      "outputs": []
    }
  ]
}